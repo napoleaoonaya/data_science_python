{
 "cells": [
  {
   "cell_type": "code",
   "execution_count": 4,
   "id": "a2dbffe9-c43a-42b5-b277-a6b01b5e6423",
   "metadata": {},
   "outputs": [
    {
     "name": "stdout",
     "output_type": "stream",
     "text": [
      "z=1.959963984540054\n"
     ]
    }
   ],
   "source": [
    "import scipy.stats as st\n",
    "nivel_de_confianca=0.95\n",
    "nivel_de_significancia=1-nivel_de_confianca\n",
    "z=abs(st.norm.ppf(nivel_de_significancia/2))\n",
    "print(f'z={z}')      "
   ]
  },
  {
   "cell_type": "raw",
   "id": "bbb8a86e-0c5f-478e-9e50-1b40e767e10a",
   "metadata": {},
   "source": [
    "import math\n",
    "tamanho_populacao = 60\n",
    "desvio_padrao = 0.020\n",
    "desvio_padrao_amostral=desvio_padrao/math.sqrt(tamanho_populacao)\n",
    "media_amostral = 0.01\n",
    "lim_sup = media_amostral + z*desvio_padrao_amostral \n",
    "lim_inf = media_amostral - z*desvio_padrao_amostral\n",
    "intervalo_de_confianca = (media_amostral-lim_inf, \n",
    "                          media_amostral+lim_sup)\n",
    "print(f'intervalo de confiança={intervalo_de_confianca}')"
   ]
  },
  {
   "cell_type": "code",
   "execution_count": null,
   "id": "77eeba14-1f60-4d9b-af2d-35bc9f65c953",
   "metadata": {},
   "outputs": [],
   "source": []
  },
  {
   "cell_type": "code",
   "execution_count": null,
   "id": "6a1374e8-044f-494a-a1b6-3924dba79bcd",
   "metadata": {},
   "outputs": [],
   "source": []
  }
 ],
 "metadata": {
  "kernelspec": {
   "display_name": "Python 3 (ipykernel)",
   "language": "python",
   "name": "python3"
  },
  "language_info": {
   "codemirror_mode": {
    "name": "ipython",
    "version": 3
   },
   "file_extension": ".py",
   "mimetype": "text/x-python",
   "name": "python",
   "nbconvert_exporter": "python",
   "pygments_lexer": "ipython3",
   "version": "3.11.5"
  }
 },
 "nbformat": 4,
 "nbformat_minor": 5
}
