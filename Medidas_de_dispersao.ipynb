{
 "cells": [
  {
   "cell_type": "code",
   "execution_count": 18,
   "id": "3ece7f95-468e-46ba-83f5-7770b7378ebb",
   "metadata": {},
   "outputs": [
    {
     "data": {
      "text/html": [
       "<div>\n",
       "<style scoped>\n",
       "    .dataframe tbody tr th:only-of-type {\n",
       "        vertical-align: middle;\n",
       "    }\n",
       "\n",
       "    .dataframe tbody tr th {\n",
       "        vertical-align: top;\n",
       "    }\n",
       "\n",
       "    .dataframe thead th {\n",
       "        text-align: right;\n",
       "    }\n",
       "</style>\n",
       "<table border=\"1\" class=\"dataframe\">\n",
       "  <thead>\n",
       "    <tr style=\"text-align: right;\">\n",
       "      <th></th>\n",
       "      <th>date</th>\n",
       "      <th>currency_code</th>\n",
       "      <th>name</th>\n",
       "      <th>local_price</th>\n",
       "      <th>dollar_ex</th>\n",
       "      <th>dollar_price</th>\n",
       "    </tr>\n",
       "  </thead>\n",
       "  <tbody>\n",
       "    <tr>\n",
       "      <th>0</th>\n",
       "      <td>2000-04-01</td>\n",
       "      <td>ARS</td>\n",
       "      <td>Argentina</td>\n",
       "      <td>2.50</td>\n",
       "      <td>1</td>\n",
       "      <td>2.50</td>\n",
       "    </tr>\n",
       "    <tr>\n",
       "      <th>1</th>\n",
       "      <td>2000-04-01</td>\n",
       "      <td>AUD</td>\n",
       "      <td>Australia</td>\n",
       "      <td>2.59</td>\n",
       "      <td>1</td>\n",
       "      <td>2.59</td>\n",
       "    </tr>\n",
       "    <tr>\n",
       "      <th>2</th>\n",
       "      <td>2000-04-01</td>\n",
       "      <td>BRL</td>\n",
       "      <td>Brazil</td>\n",
       "      <td>2.95</td>\n",
       "      <td>1</td>\n",
       "      <td>2.95</td>\n",
       "    </tr>\n",
       "    <tr>\n",
       "      <th>3</th>\n",
       "      <td>2000-04-01</td>\n",
       "      <td>GBP</td>\n",
       "      <td>Britain</td>\n",
       "      <td>1.90</td>\n",
       "      <td>1</td>\n",
       "      <td>1.90</td>\n",
       "    </tr>\n",
       "    <tr>\n",
       "      <th>4</th>\n",
       "      <td>2000-04-01</td>\n",
       "      <td>CAD</td>\n",
       "      <td>Canada</td>\n",
       "      <td>2.85</td>\n",
       "      <td>1</td>\n",
       "      <td>2.85</td>\n",
       "    </tr>\n",
       "  </tbody>\n",
       "</table>\n",
       "</div>"
      ],
      "text/plain": [
       "         date currency_code       name  local_price  dollar_ex  dollar_price\n",
       "0  2000-04-01           ARS  Argentina         2.50          1          2.50\n",
       "1  2000-04-01           AUD  Australia         2.59          1          2.59\n",
       "2  2000-04-01           BRL     Brazil         2.95          1          2.95\n",
       "3  2000-04-01           GBP    Britain         1.90          1          1.90\n",
       "4  2000-04-01           CAD     Canada         2.85          1          2.85"
      ]
     },
     "execution_count": 18,
     "metadata": {},
     "output_type": "execute_result"
    }
   ],
   "source": [
    "import pandas as pd\n",
    "\n",
    "file = \"C:\\\\Users\\\\Priscila\\\\Downloads\\\\BigmacPrice.csv\"\n",
    "df = pd.read_csv(file)\n",
    "df.head()"
   ]
  },
  {
   "cell_type": "code",
   "execution_count": 19,
   "id": "5dbd1a94-1d68-4c63-a244-1af2e5a4900f",
   "metadata": {},
   "outputs": [
    {
     "data": {
      "text/plain": [
       "2.0080426754505307"
      ]
     },
     "execution_count": 19,
     "metadata": {},
     "output_type": "execute_result"
    }
   ],
   "source": [
    "df['dollar_price'].var()"
   ]
  },
  {
   "cell_type": "code",
   "execution_count": 2,
   "id": "c6278381-6e6c-480c-a6ca-26d5dd644f68",
   "metadata": {},
   "outputs": [
    {
     "data": {
      "text/plain": [
       "3.0"
      ]
     },
     "execution_count": 2,
     "metadata": {},
     "output_type": "execute_result"
    }
   ],
   "source": [
    "lista_exemplo_variancia = [1,2,3,4,5]\n",
    "def media(lista):\n",
    "    return sum(lista)/len(lista)\n",
    "media(lista_exemplo_variancia)"
   ]
  },
  {
   "cell_type": "code",
   "execution_count": 10,
   "id": "99f9c966-efd9-4e6d-bf49-e475683594dc",
   "metadata": {},
   "outputs": [
    {
     "data": {
      "text/plain": [
       "2.5"
      ]
     },
     "execution_count": 10,
     "metadata": {},
     "output_type": "execute_result"
    }
   ],
   "source": [
    "def variancia_amostral(lista):\n",
    "    media_lista=media(lista)\n",
    "    tamanho_lista=len(lista)\n",
    "    lista_de_distancia_quadrada=[]\n",
    "    for observacao in lista:\n",
    "        distancia_quadrada=(observacao-media_lista)**2\n",
    "        lista_de_distancia_quadrada.append(distancia_quadrada)\n",
    "    variancia=sum(lista_de_distancia_quadrada)/(tamanho_lista - 1)\n",
    "    return variancia\n",
    "\n",
    "variancia_amostral(lista_exemplo_variancia)\n",
    "        \n",
    "    "
   ]
  },
  {
   "cell_type": "code",
   "execution_count": 11,
   "id": "39cb2707-9c4a-42e6-8610-6c73e3b2e403",
   "metadata": {},
   "outputs": [
    {
     "data": {
      "text/plain": [
       "2.0"
      ]
     },
     "execution_count": 11,
     "metadata": {},
     "output_type": "execute_result"
    }
   ],
   "source": [
    "def variancia_populacional(lista):\n",
    "    media_lista=media(lista)\n",
    "    tamanho_lista=len(lista)\n",
    "    lista_de_distancia_quadrada=[]\n",
    "    for observacao in lista:\n",
    "        distancia_quadrada=(observacao-media_lista)**2\n",
    "        lista_de_distancia_quadrada.append(distancia_quadrada)\n",
    "    variancia=sum(lista_de_distancia_quadrada)/tamanho_lista\n",
    "    return variancia\n",
    "\n",
    "variancia_populacional(lista_exemplo_variancia)\n",
    "        "
   ]
  },
  {
   "cell_type": "code",
   "execution_count": 12,
   "id": "08b91186-35d6-4d58-accc-b632f3e8ed0e",
   "metadata": {},
   "outputs": [
    {
     "data": {
      "text/plain": [
       "2.0"
      ]
     },
     "execution_count": 12,
     "metadata": {},
     "output_type": "execute_result"
    }
   ],
   "source": [
    "import numpy as np\n",
    "\n",
    "np.var(lista_exemplo_variancia)"
   ]
  },
  {
   "cell_type": "code",
   "execution_count": 14,
   "id": "5ec47c57-3267-455e-8ca3-2b64431ebb1f",
   "metadata": {},
   "outputs": [
    {
     "name": "stdout",
     "output_type": "stream",
     "text": [
      "0    2.5\n",
      "dtype: float64\n"
     ]
    }
   ],
   "source": [
    "df = pd.DataFrame(lista_exemplo_variancia)\n",
    "\n",
    "print(df.var())"
   ]
  },
  {
   "cell_type": "code",
   "execution_count": 20,
   "id": "08e390bc-44ee-4dc7-b90d-e695d26a4912",
   "metadata": {},
   "outputs": [
    {
     "data": {
      "text/plain": [
       "1.4142135623730951"
      ]
     },
     "execution_count": 20,
     "metadata": {},
     "output_type": "execute_result"
    }
   ],
   "source": [
    "np.std(lista_exemplo_variancia)"
   ]
  },
  {
   "cell_type": "code",
   "execution_count": 22,
   "id": "931154d9-b31e-4bb1-823d-d31242445bcf",
   "metadata": {},
   "outputs": [
    {
     "name": "stdout",
     "output_type": "stream",
     "text": [
      "0    1.581139\n",
      "dtype: float64\n"
     ]
    }
   ],
   "source": [
    "df = pd.DataFrame(lista_exemplo_variancia)\n",
    "\n",
    "print(df.std())"
   ]
  },
  {
   "cell_type": "code",
   "execution_count": 35,
   "id": "75e249d7-aca4-4d7d-95e4-0ecd515cc698",
   "metadata": {},
   "outputs": [
    {
     "name": "stdout",
     "output_type": "stream",
     "text": [
      "0    91.287093\n",
      "dtype: float64\n"
     ]
    }
   ],
   "source": [
    "import pandas as pand\n",
    "lista2 = [1,2,3,4,5,6,7,8,9]\n",
    "dfr = pand.DataFrame(lista2)\n",
    "cv = (dfr.std()/df.mean())*100\n",
    "print(cv)"
   ]
  },
  {
   "cell_type": "code",
   "execution_count": null,
   "id": "66d2482f-c224-4a49-b4a3-2df50e5d5c64",
   "metadata": {},
   "outputs": [],
   "source": []
  }
 ],
 "metadata": {
  "kernelspec": {
   "display_name": "Python 3 (ipykernel)",
   "language": "python",
   "name": "python3"
  },
  "language_info": {
   "codemirror_mode": {
    "name": "ipython",
    "version": 3
   },
   "file_extension": ".py",
   "mimetype": "text/x-python",
   "name": "python",
   "nbconvert_exporter": "python",
   "pygments_lexer": "ipython3",
   "version": "3.11.5"
  }
 },
 "nbformat": 4,
 "nbformat_minor": 5
}
