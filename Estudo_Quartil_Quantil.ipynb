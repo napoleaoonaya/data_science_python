{
 "cells": [
  {
   "cell_type": "code",
   "execution_count": 1,
   "id": "7b6e988f-aa5e-47c2-af48-5ca29b901572",
   "metadata": {},
   "outputs": [
    {
     "name": "stdout",
     "output_type": "stream",
     "text": [
      "Estudo sobre quartil e quantil\n"
     ]
    }
   ],
   "source": [
    "print(\"Estudo sobre quartil e quantil\")\n",
    "\n"
   ]
  },
  {
   "cell_type": "code",
   "execution_count": 7,
   "id": "df11b899-9bf4-4ce8-9bb0-26d983c3e9c8",
   "metadata": {},
   "outputs": [
    {
     "data": {
      "text/html": [
       "<div>\n",
       "<style scoped>\n",
       "    .dataframe tbody tr th:only-of-type {\n",
       "        vertical-align: middle;\n",
       "    }\n",
       "\n",
       "    .dataframe tbody tr th {\n",
       "        vertical-align: top;\n",
       "    }\n",
       "\n",
       "    .dataframe thead th {\n",
       "        text-align: right;\n",
       "    }\n",
       "</style>\n",
       "<table border=\"1\" class=\"dataframe\">\n",
       "  <thead>\n",
       "    <tr style=\"text-align: right;\">\n",
       "      <th></th>\n",
       "      <th>date</th>\n",
       "      <th>currency_code</th>\n",
       "      <th>name</th>\n",
       "      <th>local_price</th>\n",
       "      <th>dollar_ex</th>\n",
       "      <th>dollar_price</th>\n",
       "    </tr>\n",
       "  </thead>\n",
       "  <tbody>\n",
       "    <tr>\n",
       "      <th>0</th>\n",
       "      <td>2000-04-01</td>\n",
       "      <td>ARS</td>\n",
       "      <td>Argentina</td>\n",
       "      <td>2.50</td>\n",
       "      <td>1</td>\n",
       "      <td>2.50</td>\n",
       "    </tr>\n",
       "    <tr>\n",
       "      <th>1</th>\n",
       "      <td>2000-04-01</td>\n",
       "      <td>AUD</td>\n",
       "      <td>Australia</td>\n",
       "      <td>2.59</td>\n",
       "      <td>1</td>\n",
       "      <td>2.59</td>\n",
       "    </tr>\n",
       "    <tr>\n",
       "      <th>2</th>\n",
       "      <td>2000-04-01</td>\n",
       "      <td>BRL</td>\n",
       "      <td>Brazil</td>\n",
       "      <td>2.95</td>\n",
       "      <td>1</td>\n",
       "      <td>2.95</td>\n",
       "    </tr>\n",
       "    <tr>\n",
       "      <th>3</th>\n",
       "      <td>2000-04-01</td>\n",
       "      <td>GBP</td>\n",
       "      <td>Britain</td>\n",
       "      <td>1.90</td>\n",
       "      <td>1</td>\n",
       "      <td>1.90</td>\n",
       "    </tr>\n",
       "    <tr>\n",
       "      <th>4</th>\n",
       "      <td>2000-04-01</td>\n",
       "      <td>CAD</td>\n",
       "      <td>Canada</td>\n",
       "      <td>2.85</td>\n",
       "      <td>1</td>\n",
       "      <td>2.85</td>\n",
       "    </tr>\n",
       "  </tbody>\n",
       "</table>\n",
       "</div>"
      ],
      "text/plain": [
       "         date currency_code       name  local_price  dollar_ex  dollar_price\n",
       "0  2000-04-01           ARS  Argentina         2.50          1          2.50\n",
       "1  2000-04-01           AUD  Australia         2.59          1          2.59\n",
       "2  2000-04-01           BRL     Brazil         2.95          1          2.95\n",
       "3  2000-04-01           GBP    Britain         1.90          1          1.90\n",
       "4  2000-04-01           CAD     Canada         2.85          1          2.85"
      ]
     },
     "execution_count": 7,
     "metadata": {},
     "output_type": "execute_result"
    }
   ],
   "source": [
    "import pandas as pd\n",
    "\n",
    "file = \"C:\\\\Users\\\\Priscila\\\\Downloads\\\\BigmacPrice.csv\"\n",
    "df = pd.read_csv(file)\n",
    "df.head()"
   ]
  },
  {
   "cell_type": "code",
   "execution_count": 45,
   "id": "7e53ebc4-4c2d-4306-bea0-99682598491a",
   "metadata": {},
   "outputs": [],
   "source": [
    "quantil_25 = df['dollar_price'].quantile(0.25)"
   ]
  },
  {
   "cell_type": "code",
   "execution_count": 46,
   "id": "12bb5039-0e3a-4716-9345-906a3bad1142",
   "metadata": {},
   "outputs": [],
   "source": [
    "quantil_50 = df['dollar_price'].quantile(0.50)"
   ]
  },
  {
   "cell_type": "code",
   "execution_count": 47,
   "id": "9c51ddf3-0f7f-4e38-b45f-3db87993c5bb",
   "metadata": {},
   "outputs": [],
   "source": [
    "quantil_75 = df['dollar_price'].quantile(0.75)"
   ]
  },
  {
   "cell_type": "code",
   "execution_count": 48,
   "id": "fb884b84-7b03-402f-8f7b-c6eae90ac2f8",
   "metadata": {},
   "outputs": [],
   "source": [
    "quantil_100 = df['dollar_price'].quantile(1)"
   ]
  },
  {
   "cell_type": "code",
   "execution_count": 49,
   "id": "e47a80d3-b22a-4d16-b322-7f3fa0be61fd",
   "metadata": {},
   "outputs": [],
   "source": [
    "mediana = df['dollar_price'].median()"
   ]
  },
  {
   "cell_type": "code",
   "execution_count": 50,
   "id": "86a92fe3-51e7-4a78-a27d-67cb7bffd188",
   "metadata": {},
   "outputs": [],
   "source": [
    "media = df['dollar_price'].mean()"
   ]
  },
  {
   "cell_type": "code",
   "execution_count": 51,
   "id": "f3527acb-518e-43b2-86b1-03b4a4dd7789",
   "metadata": {},
   "outputs": [],
   "source": [
    "moda = df['dollar_price'].mode()[0]"
   ]
  },
  {
   "cell_type": "code",
   "execution_count": 52,
   "id": "e0984b22-14d5-4917-bf95-186bb58b5314",
   "metadata": {},
   "outputs": [],
   "source": [
    "desvio_quadrado = df['dollar_price'].std()"
   ]
  },
  {
   "cell_type": "code",
   "execution_count": 53,
   "id": "6f0e2467-989b-4e9f-9a7a-01f37af76a63",
   "metadata": {},
   "outputs": [],
   "source": [
    "variancia = df['dollar_price'].var()"
   ]
  },
  {
   "cell_type": "code",
   "execution_count": 54,
   "id": "033850fb-4ebb-4a6a-a7e9-00dca84c0064",
   "metadata": {},
   "outputs": [
    {
     "name": "stdout",
     "output_type": "stream",
     "text": [
      "Média: 3.568011305241521\n",
      "Mediana: 3.4\n",
      "Moda: 3.0\n",
      "Desvio quadrado: 1.4170542245978206\n",
      "Variância: 2.0080426754505307\n",
      "1 Quartil, Quantil de 25%: 2.5725\n",
      "2 Quartil, Quantil de 50%: 3.4\n",
      "3 Quartil, Quantil de 75%: 4.24\n",
      "4 Quartil, Quantil de 100%: 11.25\n"
     ]
    }
   ],
   "source": [
    "print(f\"Média: {media}\")\n",
    "print(f\"Mediana: {mediana}\")\n",
    "print(f\"Moda: {moda}\")\n",
    "print(f\"Desvio quadrado: {desvio_quadrado}\")\n",
    "print(f\"Variância: {variancia}\")\n",
    "print(f\"1 Quartil, Quantil de 25%: {quantil_25}\")\n",
    "print(f\"2 Quartil, Quantil de 50%: {quantil_50}\")\n",
    "print(f\"3 Quartil, Quantil de 75%: {quantil_75}\")\n",
    "print(f\"4 Quartil, Quantil de 100%: {quantil_100}\")\n"
   ]
  },
  {
   "cell_type": "code",
   "execution_count": null,
   "id": "b0ce53f4-a85a-4632-9cf7-e4b6aa82ece0",
   "metadata": {},
   "outputs": [],
   "source": []
  }
 ],
 "metadata": {
  "kernelspec": {
   "display_name": "Python 3 (ipykernel)",
   "language": "python",
   "name": "python3"
  },
  "language_info": {
   "codemirror_mode": {
    "name": "ipython",
    "version": 3
   },
   "file_extension": ".py",
   "mimetype": "text/x-python",
   "name": "python",
   "nbconvert_exporter": "python",
   "pygments_lexer": "ipython3",
   "version": "3.11.5"
  }
 },
 "nbformat": 4,
 "nbformat_minor": 5
}
