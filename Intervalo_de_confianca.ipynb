{
 "cells": [
  {
   "cell_type": "code",
   "execution_count": 5,
   "id": "6835288a-6d12-4c92-b345-1fe2e96d918d",
   "metadata": {},
   "outputs": [
    {
     "data": {
      "text/html": [
       "<div>\n",
       "<style scoped>\n",
       "    .dataframe tbody tr th:only-of-type {\n",
       "        vertical-align: middle;\n",
       "    }\n",
       "\n",
       "    .dataframe tbody tr th {\n",
       "        vertical-align: top;\n",
       "    }\n",
       "\n",
       "    .dataframe thead th {\n",
       "        text-align: right;\n",
       "    }\n",
       "</style>\n",
       "<table border=\"1\" class=\"dataframe\">\n",
       "  <thead>\n",
       "    <tr style=\"text-align: right;\">\n",
       "      <th></th>\n",
       "      <th>date</th>\n",
       "      <th>currency_code</th>\n",
       "      <th>name</th>\n",
       "      <th>local_price</th>\n",
       "      <th>dollar_ex</th>\n",
       "      <th>dollar_price</th>\n",
       "    </tr>\n",
       "  </thead>\n",
       "  <tbody>\n",
       "    <tr>\n",
       "      <th>0</th>\n",
       "      <td>2000-04-01</td>\n",
       "      <td>ARS</td>\n",
       "      <td>Argentina</td>\n",
       "      <td>2.50</td>\n",
       "      <td>1</td>\n",
       "      <td>2.50</td>\n",
       "    </tr>\n",
       "    <tr>\n",
       "      <th>1</th>\n",
       "      <td>2000-04-01</td>\n",
       "      <td>AUD</td>\n",
       "      <td>Australia</td>\n",
       "      <td>2.59</td>\n",
       "      <td>1</td>\n",
       "      <td>2.59</td>\n",
       "    </tr>\n",
       "    <tr>\n",
       "      <th>2</th>\n",
       "      <td>2000-04-01</td>\n",
       "      <td>BRL</td>\n",
       "      <td>Brazil</td>\n",
       "      <td>2.95</td>\n",
       "      <td>1</td>\n",
       "      <td>2.95</td>\n",
       "    </tr>\n",
       "    <tr>\n",
       "      <th>3</th>\n",
       "      <td>2000-04-01</td>\n",
       "      <td>GBP</td>\n",
       "      <td>Britain</td>\n",
       "      <td>1.90</td>\n",
       "      <td>1</td>\n",
       "      <td>1.90</td>\n",
       "    </tr>\n",
       "    <tr>\n",
       "      <th>4</th>\n",
       "      <td>2000-04-01</td>\n",
       "      <td>CAD</td>\n",
       "      <td>Canada</td>\n",
       "      <td>2.85</td>\n",
       "      <td>1</td>\n",
       "      <td>2.85</td>\n",
       "    </tr>\n",
       "  </tbody>\n",
       "</table>\n",
       "</div>"
      ],
      "text/plain": [
       "         date currency_code       name  local_price  dollar_ex  dollar_price\n",
       "0  2000-04-01           ARS  Argentina         2.50          1          2.50\n",
       "1  2000-04-01           AUD  Australia         2.59          1          2.59\n",
       "2  2000-04-01           BRL     Brazil         2.95          1          2.95\n",
       "3  2000-04-01           GBP    Britain         1.90          1          1.90\n",
       "4  2000-04-01           CAD     Canada         2.85          1          2.85"
      ]
     },
     "execution_count": 5,
     "metadata": {},
     "output_type": "execute_result"
    }
   ],
   "source": [
    "#Importando a bilbioteca pandas\n",
    "import pandas as pd\n",
    "\n",
    "#Importando dados de um arquivo csv\n",
    "file = \"c:\\\\Users\\\\Priscila\\\\Downloads\\\\BigmacPrice.csv\"\n",
    "\n",
    "#Criando um data frame usando o pandas\n",
    "df = pd.read_csv(file)\n",
    "#Exibindo o cabeçalho com cinco registros\n",
    "df.head()"
   ]
  },
  {
   "cell_type": "code",
   "execution_count": 6,
   "id": "d81ba4f3-d951-4094-b8bd-e1ed3afeacda",
   "metadata": {},
   "outputs": [
    {
     "name": "stdout",
     "output_type": "stream",
     "text": [
      "Média do preço do bigmac em dollares: 3.568011305241521\n"
     ]
    }
   ],
   "source": [
    "#Cálculando a média\n",
    "bigmac_media = df['dollar_price'].mean()\n",
    "#Exibindo média\n",
    "print('Média do preço do bigmac em dollares: {}'.format(bigmac_media))"
   ]
  },
  {
   "cell_type": "code",
   "execution_count": 7,
   "id": "1b9a90b9-c510-4cc8-81d1-4c511346314c",
   "metadata": {},
   "outputs": [
    {
     "name": "stdout",
     "output_type": "stream",
     "text": [
      "Desvio padrão do bigmac: 1.4170542245978206\n"
     ]
    }
   ],
   "source": [
    "#Cálculando o desvio padrão\n",
    "bigmac_desvio_padrao = df['dollar_price'].std()\n",
    "#Exibindo o desvio padrão\n",
    "print('Desvio padrão do bigmac: {}'.format(bigmac_desvio_padrao))"
   ]
  },
  {
   "cell_type": "code",
   "execution_count": 9,
   "id": "cb1e8175-533d-4e68-8d60-86bfc7cd78db",
   "metadata": {},
   "outputs": [
    {
     "name": "stdout",
     "output_type": "stream",
     "text": [
      "Intervalo de confiança de 95% é de (0.7906360608894603, 6.345386549593583)\n"
     ]
    }
   ],
   "source": [
    "#Utilizando a biblioteca scipy importando métodos estatísticos(stats) \n",
    "from scipy import stats\n",
    "\n",
    "#loc é a media\n",
    "#scale é o desvio padrão\n",
    "\n",
    "#Intervalo de 95% de confiança\n",
    "intervalo_95_bigmac = stats.norm.interval(0.95\n",
    "                                         ,loc=bigmac_media\n",
    "                                         ,scale=bigmac_desvio_padrao)\n",
    "#Exibindo o intervalo de confiança de 95%\n",
    "print('Intervalo de confiança de 95% é de {}'.format(intervalo_95_bigmac))"
   ]
  },
  {
   "cell_type": "code",
   "execution_count": 14,
   "id": "750cd0a4-0b7b-4b9e-a621-d4a8c019e4df",
   "metadata": {},
   "outputs": [],
   "source": [
    "#Intervalo de proporção\n",
    "\n",
    "preco = df['dollar_price']\n",
    "\n",
    "def ecaro(preco):\n",
    "    if preco > 4:\n",
    "        return 1\n",
    "    return 0\n",
    "\n",
    "df['bigmac_e_caro'] = df['dollar_price'].apply(ecaro)"
   ]
  },
  {
   "cell_type": "code",
   "execution_count": 15,
   "id": "2220b2a2-ae0b-4470-9bf7-65c8854fd4be",
   "metadata": {},
   "outputs": [
    {
     "data": {
      "text/html": [
       "<div>\n",
       "<style scoped>\n",
       "    .dataframe tbody tr th:only-of-type {\n",
       "        vertical-align: middle;\n",
       "    }\n",
       "\n",
       "    .dataframe tbody tr th {\n",
       "        vertical-align: top;\n",
       "    }\n",
       "\n",
       "    .dataframe thead th {\n",
       "        text-align: right;\n",
       "    }\n",
       "</style>\n",
       "<table border=\"1\" class=\"dataframe\">\n",
       "  <thead>\n",
       "    <tr style=\"text-align: right;\">\n",
       "      <th></th>\n",
       "      <th>date</th>\n",
       "      <th>currency_code</th>\n",
       "      <th>name</th>\n",
       "      <th>local_price</th>\n",
       "      <th>dollar_ex</th>\n",
       "      <th>dollar_price</th>\n",
       "      <th>bigmac_e_caro</th>\n",
       "    </tr>\n",
       "  </thead>\n",
       "  <tbody>\n",
       "    <tr>\n",
       "      <th>0</th>\n",
       "      <td>2000-04-01</td>\n",
       "      <td>ARS</td>\n",
       "      <td>Argentina</td>\n",
       "      <td>2.50</td>\n",
       "      <td>1</td>\n",
       "      <td>2.50</td>\n",
       "      <td>0</td>\n",
       "    </tr>\n",
       "    <tr>\n",
       "      <th>1</th>\n",
       "      <td>2000-04-01</td>\n",
       "      <td>AUD</td>\n",
       "      <td>Australia</td>\n",
       "      <td>2.59</td>\n",
       "      <td>1</td>\n",
       "      <td>2.59</td>\n",
       "      <td>0</td>\n",
       "    </tr>\n",
       "    <tr>\n",
       "      <th>2</th>\n",
       "      <td>2000-04-01</td>\n",
       "      <td>BRL</td>\n",
       "      <td>Brazil</td>\n",
       "      <td>2.95</td>\n",
       "      <td>1</td>\n",
       "      <td>2.95</td>\n",
       "      <td>0</td>\n",
       "    </tr>\n",
       "    <tr>\n",
       "      <th>3</th>\n",
       "      <td>2000-04-01</td>\n",
       "      <td>GBP</td>\n",
       "      <td>Britain</td>\n",
       "      <td>1.90</td>\n",
       "      <td>1</td>\n",
       "      <td>1.90</td>\n",
       "      <td>0</td>\n",
       "    </tr>\n",
       "    <tr>\n",
       "      <th>4</th>\n",
       "      <td>2000-04-01</td>\n",
       "      <td>CAD</td>\n",
       "      <td>Canada</td>\n",
       "      <td>2.85</td>\n",
       "      <td>1</td>\n",
       "      <td>2.85</td>\n",
       "      <td>0</td>\n",
       "    </tr>\n",
       "  </tbody>\n",
       "</table>\n",
       "</div>"
      ],
      "text/plain": [
       "         date currency_code       name  local_price  dollar_ex  dollar_price  \\\n",
       "0  2000-04-01           ARS  Argentina         2.50          1          2.50   \n",
       "1  2000-04-01           AUD  Australia         2.59          1          2.59   \n",
       "2  2000-04-01           BRL     Brazil         2.95          1          2.95   \n",
       "3  2000-04-01           GBP    Britain         1.90          1          1.90   \n",
       "4  2000-04-01           CAD     Canada         2.85          1          2.85   \n",
       "\n",
       "   bigmac_e_caro  \n",
       "0              0  \n",
       "1              0  \n",
       "2              0  \n",
       "3              0  \n",
       "4              0  "
      ]
     },
     "execution_count": 15,
     "metadata": {},
     "output_type": "execute_result"
    }
   ],
   "source": [
    "df.head()"
   ]
  },
  {
   "cell_type": "code",
   "execution_count": 16,
   "id": "4b2b97b1-f671-4c9d-8d4b-75d18f56f9dc",
   "metadata": {},
   "outputs": [
    {
     "data": {
      "text/html": [
       "<div>\n",
       "<style scoped>\n",
       "    .dataframe tbody tr th:only-of-type {\n",
       "        vertical-align: middle;\n",
       "    }\n",
       "\n",
       "    .dataframe tbody tr th {\n",
       "        vertical-align: top;\n",
       "    }\n",
       "\n",
       "    .dataframe thead th {\n",
       "        text-align: right;\n",
       "    }\n",
       "</style>\n",
       "<table border=\"1\" class=\"dataframe\">\n",
       "  <thead>\n",
       "    <tr style=\"text-align: right;\">\n",
       "      <th></th>\n",
       "      <th>local_price</th>\n",
       "      <th>dollar_ex</th>\n",
       "      <th>dollar_price</th>\n",
       "      <th>bigmac_e_caro</th>\n",
       "    </tr>\n",
       "  </thead>\n",
       "  <tbody>\n",
       "    <tr>\n",
       "      <th>count</th>\n",
       "      <td>1.946000e+03</td>\n",
       "      <td>1.946000e+03</td>\n",
       "      <td>1946.000000</td>\n",
       "      <td>1946.000000</td>\n",
       "    </tr>\n",
       "    <tr>\n",
       "      <th>mean</th>\n",
       "      <td>1.581609e+04</td>\n",
       "      <td>4.722255e+03</td>\n",
       "      <td>3.568011</td>\n",
       "      <td>0.303186</td>\n",
       "    </tr>\n",
       "    <tr>\n",
       "      <th>std</th>\n",
       "      <td>3.940050e+05</td>\n",
       "      <td>1.006232e+05</td>\n",
       "      <td>1.417054</td>\n",
       "      <td>0.459753</td>\n",
       "    </tr>\n",
       "    <tr>\n",
       "      <th>min</th>\n",
       "      <td>0.000000e+00</td>\n",
       "      <td>1.000000e+00</td>\n",
       "      <td>0.000000</td>\n",
       "      <td>0.000000</td>\n",
       "    </tr>\n",
       "    <tr>\n",
       "      <th>25%</th>\n",
       "      <td>4.450000e+00</td>\n",
       "      <td>1.000000e+00</td>\n",
       "      <td>2.572500</td>\n",
       "      <td>0.000000</td>\n",
       "    </tr>\n",
       "    <tr>\n",
       "      <th>50%</th>\n",
       "      <td>1.500000e+01</td>\n",
       "      <td>5.000000e+00</td>\n",
       "      <td>3.400000</td>\n",
       "      <td>0.000000</td>\n",
       "    </tr>\n",
       "    <tr>\n",
       "      <th>75%</th>\n",
       "      <td>8.700000e+01</td>\n",
       "      <td>3.200000e+01</td>\n",
       "      <td>4.240000</td>\n",
       "      <td>1.000000</td>\n",
       "    </tr>\n",
       "    <tr>\n",
       "      <th>max</th>\n",
       "      <td>1.602000e+07</td>\n",
       "      <td>3.613989e+06</td>\n",
       "      <td>11.250000</td>\n",
       "      <td>1.000000</td>\n",
       "    </tr>\n",
       "  </tbody>\n",
       "</table>\n",
       "</div>"
      ],
      "text/plain": [
       "        local_price     dollar_ex  dollar_price  bigmac_e_caro\n",
       "count  1.946000e+03  1.946000e+03   1946.000000    1946.000000\n",
       "mean   1.581609e+04  4.722255e+03      3.568011       0.303186\n",
       "std    3.940050e+05  1.006232e+05      1.417054       0.459753\n",
       "min    0.000000e+00  1.000000e+00      0.000000       0.000000\n",
       "25%    4.450000e+00  1.000000e+00      2.572500       0.000000\n",
       "50%    1.500000e+01  5.000000e+00      3.400000       0.000000\n",
       "75%    8.700000e+01  3.200000e+01      4.240000       1.000000\n",
       "max    1.602000e+07  3.613989e+06     11.250000       1.000000"
      ]
     },
     "execution_count": 16,
     "metadata": {},
     "output_type": "execute_result"
    }
   ],
   "source": [
    "df.describe()"
   ]
  },
  {
   "cell_type": "code",
   "execution_count": 19,
   "id": "e0c8a1b3-9b09-4c08-9967-6a6228094ba6",
   "metadata": {},
   "outputs": [
    {
     "name": "stdout",
     "output_type": "stream",
     "text": [
      "Proporção média do preço do bigmac em dollares: 0.30318602261048305\n"
     ]
    }
   ],
   "source": [
    "#Definindo a media da proporção\n",
    "bigmac_caro_proporcao_media = df['bigmac_e_caro'].mean()\n",
    "#Exibindo media da proporção\n",
    "print('Proporção média do preço do bigmac em dollares: {}'.format(bigmac_caro_proporcao_media))"
   ]
  },
  {
   "cell_type": "code",
   "execution_count": 21,
   "id": "f1eda7c5-9115-4ce2-8f48-07ce78e21636",
   "metadata": {},
   "outputs": [
    {
     "name": "stdout",
     "output_type": "stream",
     "text": [
      "Desvio  padrão da proporção do preço do bigmac em dollares: 0.4596349184995835\n"
     ]
    }
   ],
   "source": [
    "#Definindo o desvio padrão da proporção\n",
    "bigmac_caro_proporcao_desvio = (bigmac_caro_proporcao_media * ( 1 - bigmac_caro_proporcao_media)) ** 0.5\n",
    "#Exibindo desvio padrão da proporção\n",
    "print('Desvio  padrão da proporção do preço do bigmac em dollares: {}'.format(bigmac_caro_proporcao_desvio))"
   ]
  },
  {
   "cell_type": "code",
   "execution_count": 26,
   "id": "e0f44e8a-c7b7-4b5f-a449-9eddd4b8afc6",
   "metadata": {},
   "outputs": [
    {
     "name": "stdout",
     "output_type": "stream",
     "text": [
      "Intervalo de confiança de 95% da proporção é (0.2827517102177196, 0.3236203350032465)\n"
     ]
    }
   ],
   "source": [
    "#Intervalo de confiança para proporção\n",
    "from scipy.stats import t\n",
    "\n",
    "graus_de_liberdade = df.shape[0] - 1\n",
    "\n",
    "#Intervalo de 95% de confiança para proporção\n",
    "intervalo_95_bigmac_proporcao = t.interval(0.95\n",
    "                                         ,df=graus_de_liberdade\n",
    "                                         ,loc=bigmac_caro_proporcao_media\n",
    "                                         ,scale=bigmac_caro_proporcao_desvio/(df.shape[0]**0.5))\n",
    "#Exibindo o intervalo de confiança de 95%\n",
    "print('Intervalo de confiança de 95% da proporção é {}'.format(intervalo_95_bigmac_proporcao))"
   ]
  },
  {
   "cell_type": "code",
   "execution_count": 28,
   "id": "835b7548-f9b3-4c20-b858-072c3248b245",
   "metadata": {},
   "outputs": [
    {
     "name": "stdout",
     "output_type": "stream",
     "text": [
      "Margem de erro da proporção é 0.020434312392763443\n"
     ]
    }
   ],
   "source": [
    "#Margem de erro da proporção de 95%\n",
    "margem_de_erro_proporcao_bigmac = intervalo_95_bigmac_proporcao[1] - bigmac_caro_proporcao_media\n",
    "print('Margem de erro da proporção é {}'.format(margem_de_erro_proporcao_bigmac))"
   ]
  },
  {
   "cell_type": "code",
   "execution_count": null,
   "id": "ff6e0a5a-f8f1-48bf-a77f-d66eaca2f1a5",
   "metadata": {},
   "outputs": [],
   "source": []
  }
 ],
 "metadata": {
  "kernelspec": {
   "display_name": "Python 3 (ipykernel)",
   "language": "python",
   "name": "python3"
  },
  "language_info": {
   "codemirror_mode": {
    "name": "ipython",
    "version": 3
   },
   "file_extension": ".py",
   "mimetype": "text/x-python",
   "name": "python",
   "nbconvert_exporter": "python",
   "pygments_lexer": "ipython3",
   "version": "3.11.5"
  }
 },
 "nbformat": 4,
 "nbformat_minor": 5
}
